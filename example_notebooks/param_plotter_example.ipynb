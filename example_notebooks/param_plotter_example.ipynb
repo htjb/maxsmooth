{
 "cells": [
  {
   "cell_type": "markdown",
   "metadata": {},
   "source": [
    "# Parameter Plotter Example\n",
    "\n",
    "We can assess the parameter space around the optimum solution\n",
    "found using ``maxsmooth`` with the param_plotter() function.\n",
    "This can help us identify how well a problem can be solved using the\n",
    "sign sampling approach employed by ``maxsmooth`` or simply\n",
    "be used to identify correlations between the foreground parameters.\n",
    "For more details on this see the ``maxsmooth`` paper.\n",
    "\n",
    "We begin by importing and fitting the data as with the chi_plotter()\n",
    "function illustrated above."
   ]
  },
  {
   "cell_type": "code",
   "execution_count": 1,
   "metadata": {},
   "outputs": [
    {
     "name": "stdout",
     "output_type": "stream",
     "text": [
      "#############################################################\n",
      "#############################################################\n",
      "----------------------OPTIMUM RESULT-------------------------\n",
      "Time: 0.3157176971435547\n",
      "Polynomial Order: 5\n",
      "Number of Constrained Derivatives: 3\n",
      "Signs : [-1  1 -1]\n",
      "Objective Function Value: 211039.4007159821\n",
      "Parameters: [[ 4.52551586e+02 -1.27670850e+01  3.24057966e-01 -4.36486241e-03\n",
      "   2.20470092e-05]]\n",
      "Method: qp\n",
      "Model: difference_polynomial\n",
      "Constraints: m >= 2\n",
      "Zero Crossings Used? (0 signifies Yes\n",
      " in derivative order \"i\"): {'0': 1, '1': 1}\n",
      "-------------------------------------------------------------\n",
      "#############################################################\n"
     ]
    }
   ],
   "source": [
    "import numpy as np\n",
    "\n",
    "x = np.load('Data/x.npy')\n",
    "y = np.load('Data/y.npy')\n",
    "\n",
    "from maxsmooth.DCF import smooth\n",
    "\n",
    "N = 5\n",
    "result = smooth(x, y, N, base_dir='examples/', fit_type='qp')"
   ]
  },
  {
   "cell_type": "markdown",
   "metadata": {},
   "source": [
    "We have changed the order of the fit to 5 to illustrate that for\n",
    "order $N \\leq 5$ and fits with derivatives $m \\geq 2$ constrained\n",
    "the function will plot each region of the graph corresponding to\n",
    "different sign functions in a different colourmap. If the constraints are different or the order is greater than 5 then the viable regions will have a single colourmap. Invalid regions are plotted as black shaded colourmaps and the contour lines are contours of $\\chi^2$\n",
    "\n",
    "Specifically, invalid regions violate the condition\n",
    "\n",
    "  $\\pm_m \\frac{\\delta^m y}{\\delta x^m} \\leq 0$\n",
    "\n",
    "where $m$ represents the derivative order, $y$ is the dependent\n",
    "variable and $x$ is the independent variable. Violation of the\n",
    "condition means that one or more of the constrained derivatives crosses 0 in the band of interest. For an MSF, as mentioned, $m \\geq 2$ and the sign $\\pm_m$ applies to specific derivative orders. For this specific example there are 3 constrained derivatives, $m = 2, 3, 4$ and consequently 3 signs to optimise for alongside the parameters $a_k$. The coloured valid regions therefore correspond to a specific combination of $\\pm_m$ for the problem. $\\pm_m$ is also referred to as $\\mathbf{s}$ in the theory section and the ``maxsmooth`` paper.\n",
    "\n",
    "We can import the function like so,"
   ]
  },
  {
   "cell_type": "code",
   "execution_count": 2,
   "metadata": {},
   "outputs": [],
   "source": [
    "from maxsmooth.parameter_plotter import param_plotter"
   ]
  },
  {
   "cell_type": "markdown",
   "metadata": {},
   "source": [
    "and access it using,"
   ]
  },
  {
   "cell_type": "code",
   "execution_count": 3,
   "metadata": {},
   "outputs": [
    {
     "name": "stderr",
     "output_type": "stream",
     "text": [
      "[########################################################################] 100%\n"
     ]
    },
    {
     "data": {
      "text/plain": [
       "<maxsmooth.parameter_plotter.param_plotter at 0x7fca380819d0>"
      ]
     },
     "execution_count": 3,
     "metadata": {},
     "output_type": "execute_result"
    }
   ],
   "source": [
    "param_plotter(result.optimum_params, result.optimum_signs,\n",
    "    x, y, N, base_dir='examples/')"
   ]
  },
  {
   "cell_type": "markdown",
   "metadata": {},
   "source": [
    "The function takes in the optimum parameters and signs found after the fit as well as the data and order of the fit. There are a number of keyword arguments detailed in the following section and the resultant fit is shown below. The function by default samples the parameter ranges 50% either side of the optimum and calculates 50 spamples for each parameter. The resultant graph is saved into the base_dir and in each panel the two labelled parameters are varied while the others are maintained at their optimum values."
   ]
  },
  {
   "cell_type": "markdown",
   "metadata": {},
   "source": [
    "We are also able to plot the data, fit and residuals alongside the parameter plot and this can be done by setting data_plot=True. We can also highlight the central region in each panel of the parameter space by setting center_plot=True."
   ]
  },
  {
   "cell_type": "code",
   "execution_count": 4,
   "metadata": {},
   "outputs": [
    {
     "name": "stderr",
     "output_type": "stream",
     "text": [
      "[########################################################################] 100%\n"
     ]
    },
    {
     "data": {
      "text/plain": [
       "<maxsmooth.parameter_plotter.param_plotter at 0x7fca38092340>"
      ]
     },
     "execution_count": 4,
     "metadata": {},
     "output_type": "execute_result"
    }
   ],
   "source": [
    "param_plotter(result.optimum_params, result.optimum_signs,\n",
    "    x, y, N, base_dir='examples/', data_plot=True, center_plot=True)"
   ]
  }
 ],
 "metadata": {
  "kernelspec": {
   "display_name": "Python 3",
   "language": "python",
   "name": "python3"
  },
  "language_info": {
   "codemirror_mode": {
    "name": "ipython",
    "version": 3
   },
   "file_extension": ".py",
   "mimetype": "text/x-python",
   "name": "python",
   "nbconvert_exporter": "python",
   "pygments_lexer": "ipython3",
   "version": "3.8.2"
  }
 },
 "nbformat": 4,
 "nbformat_minor": 4
}
