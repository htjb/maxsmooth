{
 "cells": [
  {
   "cell_type": "markdown",
   "metadata": {},
   "source": [
    "# New Basis Example\n",
    "\n",
    "This example code illustrates how to define your own basis function for the DCF model. It implements a modified version of the built in normalised polynomial model but the structure is the same for more elaborate models.\n",
    "\n",
    "As always we need to import the data, define an order $N$ and import the function fitting routine, smooth()."
   ]
  },
  {
   "cell_type": "code",
   "execution_count": 1,
   "metadata": {},
   "outputs": [],
   "source": [
    "import numpy as np\n",
    "from maxsmooth.DCF import smooth\n",
    "\n",
    "x = np.load('Data/x.npy')\n",
    "y = np.load('Data/y.npy')\n",
    "\n",
    "N = 10"
   ]
  },
  {
   "cell_type": "markdown",
   "metadata": {},
   "source": [
    "There are several requirements needed to define a new basis function completely for ``maxsmooth`` to be able to fit it. They are as summarised below and then examples of each are given in more detail,\n",
    "\n",
    "- **args:** Additional non-standard  arguments needed in the definition of the basis. The standard arguments are the data (x and y), the order of the fit N, the pivot point about which a model can be fit, the derivative order $m$ and the params. While the pivot point is not strictly needed it is a required argument for the functions defining a new basis to help the user in their definition.\n",
    "\n",
    "- **basis_functions:** This function defines the basis of the DCF model, $\\phi$ where the model can be generally defined as, \n",
    "    \n",
    "    $y = \\sum_{k = 0}^N a_k \\phi_k(x)$ \n",
    "    \n",
    "    where $a_k$ are the fit parameters.\n",
    "\n",
    "- **model:** This is the function described by the equation above.\n",
    "\n",
    "- **derivative:** This function defines the $m^{th}$ order derivative.\n",
    "\n",
    "- **derivative_pre:** This function defines the prefactors, $\\mathbf{G}$ on the derivatives where ``CVXOPT``, the quadratic programming routine used, evaluates the constraints as,\n",
    "\n",
    "    $\\mathbf{Ga} \\leq \\mathbf{h}$\n",
    "    \n",
    "    where $\\mathbf{a}$ is the matrix of parameters and $\\mathbf{h}$ is the matrix of constraint limits. For more details on this see the ``maxsmooth``paper.\n",
    "\n",
    "\n",
    "We can begin defining our new basis function by defining the aditional arguments needed to fit the model as a list,"
   ]
  },
  {
   "cell_type": "code",
   "execution_count": 2,
   "metadata": {},
   "outputs": [],
   "source": [
    "arguments = [x[-1]*10, y[-1]*10]"
   ]
  },
  {
   "cell_type": "markdown",
   "metadata": {},
   "source": [
    "The next step is to define the basis functions $\\phi$. This needs to be done in a function that has the arguments *(x, y, pivot_point, N, *args)*. 'args' is optional but since we need them for this basis we are passing it in.\n",
    "\n",
    "The basis functions, $\\phi$, should be an array of dimensions len(x)\n",
    "by N and consequently evaluated at each N and x data point as shown below."
   ]
  },
  {
   "cell_type": "code",
   "execution_count": 3,
   "metadata": {},
   "outputs": [],
   "source": [
    "def basis_functions(x, y, pivot_point, N, *args):\n",
    "\n",
    "    phi = np.empty([len(x), N])\n",
    "    for h in range(len(x)):\n",
    "        for i in range(N):\n",
    "            phi[h, i] = args[1]*(x[h]/args[0])**i\n",
    "\n",
    "    return phi"
   ]
  },
  {
   "cell_type": "markdown",
   "metadata": {},
   "source": [
    "We can define the model that we are fitting in a function like that shown below. This is used for evaluating $\\chi^2$ and returning the optimum fitted model once the code has finished running. It requires the arguments *(x, y, pivot_point, N, params, \\*args)* in that order and again where 'args' is optional. 'params' is the parameters of the fit, $\\mathbf{a}$ which should have length $N$.\n",
    "\n",
    "The function should return the fitted estimate of y."
   ]
  },
  {
   "cell_type": "code",
   "execution_count": 4,
   "metadata": {},
   "outputs": [],
   "source": [
    "def model(x, y, pivot_point, N, params, *args):\n",
    "\n",
    "    y_sum = args[1]*np.sum([\n",
    "        params[i]*(x/args[0])**i\n",
    "        for i in range(N)], axis=0)\n",
    "\n",
    "    return y_sum"
   ]
  },
  {
   "cell_type": "markdown",
   "metadata": {},
   "source": [
    "Next we have to define a function for the derivatives of the model which takes arguments *(m, x, y, N, pivot_point, params, *args)* where $m$ is the derivative order. The function should return the $m^{th}$ order derivative evaluation and is used for checking that the constraints have been met and returning the derivatives of the optimum fit to the user."
   ]
  },
  {
   "cell_type": "code",
   "execution_count": 5,
   "metadata": {},
   "outputs": [],
   "source": [
    "def derivative(m, x, y, N, pivot_point, params, *args):\n",
    "\n",
    "    mth_order_derivative = []\n",
    "    for i in range(N):\n",
    "        if i <= m - 1:\n",
    "            mth_order_derivative.append([0]*len(x))\n",
    "    for i in range(N - m):\n",
    "            mth_order_derivative_term = args[1]*np.math.factorial(m+i) / \\\n",
    "                np.math.factorial(i) * \\\n",
    "                params[int(m)+i]*(x)**i / \\\n",
    "                (args[0])**(i + 1)\n",
    "            mth_order_derivative.append(\n",
    "                mth_order_derivative_term)\n",
    "\n",
    "    return mth_order_derivative"
   ]
  },
  {
   "cell_type": "markdown",
   "metadata": {},
   "source": [
    "Finally we have to define $\\mathbf{G}$ which is used by ``CVXOPT`` to\n",
    "build the derivatives and constrain the functions. It takes arguments\n",
    "*(m, x, y, N, pivot_point, \\*args)* and should return the prefactor on the $m^{th}$ order derivative. For a more thorough definition of the\n",
    "prefactor on the derivative and an explination of how the problem is\n",
    "constrained in quadratic programming see the ``maxsmooth`` paper."
   ]
  },
  {
   "cell_type": "code",
   "execution_count": 6,
   "metadata": {},
   "outputs": [],
   "source": [
    "def derivative_pre(m, x, y, N, pivot_point, *args):\n",
    "\n",
    "    mth_order_derivative = []\n",
    "    for i in range(N):\n",
    "        if i <= m - 1:\n",
    "            mth_order_derivative.append([0]*len(x))\n",
    "    for i in range(N - m):\n",
    "            mth_order_derivative_term = args[1]*np.math.factorial(m+i) / \\\n",
    "                np.math.factorial(i) * \\\n",
    "                (x)**i / \\\n",
    "                (args[0])**(i + 1)\n",
    "            mth_order_derivative.append(\n",
    "                mth_order_derivative_term)\n",
    "\n",
    "    return mth_order_derivative"
   ]
  },
  {
   "cell_type": "markdown",
   "metadata": {},
   "source": [
    "With our functions and additional arguments defined we can pass these\n",
    "to the ``maxsmooth`` smooth() function as is shown below. This overwrites the built in DCF model but you are still able to modify the fit type i.e. testing all available sign combinations or sampling them."
   ]
  },
  {
   "cell_type": "code",
   "execution_count": 7,
   "metadata": {},
   "outputs": [
    {
     "name": "stdout",
     "output_type": "stream",
     "text": [
      "#############################################################\n",
      "#############################################################\n",
      "----------------------OPTIMUM RESULT-------------------------\n",
      "Time: 2.430711507797241\n",
      "Polynomial Order: 10\n",
      "Number of Constrained Derivatives: 8\n",
      "Signs : [-1  1 -1 -1 -1 -1  1 -1]\n",
      "Objective Function Value: 211043.08775526902\n",
      "Parameters: [[ 6.44274707e+00 -2.47768148e+02  3.69078272e+03 -2.46050489e+04\n",
      "   6.15121485e+04 -3.93622291e+00  2.73964765e+01  6.32967370e+00\n",
      "  -7.88321214e-01  8.20907171e-02]]\n",
      "Method: qp-sign_flipping\n",
      "Model: user_defined\n",
      "Constraints: m >= 2\n",
      "Zero Crossings Used? (0 signifies Yes\n",
      " in derivative order \"i\"): {'0': 1, '1': 1}\n",
      "-------------------------------------------------------------\n",
      "#############################################################\n"
     ]
    }
   ],
   "source": [
    "result = smooth(x, y, N,\n",
    "    basis_functions=basis_functions, model=model,\n",
    "    derivatives=derivative, der_pres=derivative_pre, args=arguments)"
   ]
  },
  {
   "cell_type": "markdown",
   "metadata": {},
   "source": [
    "The output of the fit can be accessed as before,"
   ]
  },
  {
   "cell_type": "code",
   "execution_count": 8,
   "metadata": {},
   "outputs": [
    {
     "name": "stdout",
     "output_type": "stream",
     "text": [
      "Objective Funtion Evaluations:\n",
      " 211043.08775526902\n",
      "RMS:\n",
      " 45.93942617787786\n",
      "Sign Combinations:\n",
      " [-1  1 -1 -1 -1 -1  1 -1]\n"
     ]
    }
   ],
   "source": [
    "print('Objective Funtion Evaluations:\\n', result.optimum_chi)\n",
    "print('RMS:\\n', result.rms)\n",
    "#print('Parameters:\\n', result.optimum_params[2])\n",
    "#print('Fitted y:\\n', result.y_fit)\n",
    "print('Sign Combinations:\\n', result.optimum_signs)\n",
    "#print('Derivatives:\\n', result.derivatives)"
   ]
  }
 ],
 "metadata": {
  "kernelspec": {
   "display_name": "Python 3",
   "language": "python",
   "name": "python3"
  },
  "language_info": {
   "codemirror_mode": {
    "name": "ipython",
    "version": 3
   },
   "file_extension": ".py",
   "mimetype": "text/x-python",
   "name": "python",
   "nbconvert_exporter": "python",
   "pygments_lexer": "ipython3",
   "version": "3.8.2"
  }
 },
 "nbformat": 4,
 "nbformat_minor": 4
}
