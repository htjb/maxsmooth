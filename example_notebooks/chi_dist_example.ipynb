{
 "cells": [
  {
   "cell_type": "markdown",
   "metadata": {},
   "source": [
    "# $\\chi^2$ Distribution Example\n",
    "\n",
    "This example will show you how to generate a plot of the $\\chi^2$\n",
    "distribution as a function of the descrete sign combinations on the constrained derivatives.\n",
    "\n",
    "First you will need to import your data and fit this using ``maxsmooth`` as was done in the simple example code."
   ]
  },
  {
   "cell_type": "code",
   "execution_count": 1,
   "metadata": {},
   "outputs": [
    {
     "name": "stdout",
     "output_type": "stream",
     "text": [
      "#############################################################\n",
      "#############################################################\n",
      "----------------------OPTIMUM RESULT-------------------------\n",
      "Time: 13.362407922744751\n",
      "Polynomial Order: 10\n",
      "Number of Constrained Derivatives: 8\n",
      "Signs : [-1  1 -1  1 -1  1 -1 -1]\n",
      "Objective Function Value: 114.35715789988733\n",
      "Parameters: [[ 4.93945308e+02 -1.24015979e+01  2.14191333e-01 -2.88025094e-03\n",
      "   3.92954289e-05 -7.14295143e-07  1.07936641e-08 -1.04844768e-10\n",
      "   5.92294586e-13 -1.48096272e-15]]\n",
      "Method: qp\n",
      "Model: difference_polynomial\n",
      "Constraints: m >= 2\n",
      "Zero Crossings Used? (0 signifies Yes\n",
      " in derivative order \"i\"): {'0': 1, '1': 1}\n",
      "-------------------------------------------------------------\n",
      "#############################################################\n"
     ]
    }
   ],
   "source": [
    "import numpy as np\n",
    "\n",
    "x = np.load('Data/x.npy')\n",
    "y = np.load('Data/y.npy')\n",
    "\n",
    "from maxsmooth.DCF import smooth\n",
    "\n",
    "N = 10\n",
    "\n",
    "result = smooth(x, y, N, base_dir='examples/',\n",
    "    data_save=True, fit_type='qp')"
   ]
  },
  {
   "cell_type": "markdown",
   "metadata": {},
   "source": [
    "Here we have used some additional keyword arguments for the 'smooth' fitting function. 'data_save' ensures that the files containing the tested sign combinations and the corresponding objective function evaluations exist in the base directory which we have changed to 'base_dir='examples/''. These files are essential for the plotting the $\\chi^2$ distribution and are not saved by ``maxsmooth`` without 'data_save=True'. We have also set the 'fit_type' to 'qp' rather than the default 'qp-sign_flipping'. This ensures that all of the available sign combinations are tested rather than a sampled set giving us a full picture of the distribution when we plot it. We have used the default DCF model to fit this data.\n",
    "\n",
    "We can import the 'chi_plotter' like so,"
   ]
  },
  {
   "cell_type": "code",
   "execution_count": 2,
   "metadata": {},
   "outputs": [],
   "source": [
    "from maxsmooth.chidist_plotter import chi_plotter"
   ]
  },
  {
   "cell_type": "markdown",
   "metadata": {},
   "source": [
    "and produce the fit which gets placed in the base directory with the following code,"
   ]
  },
  {
   "cell_type": "code",
   "execution_count": 3,
   "metadata": {},
   "outputs": [
    {
     "data": {
      "text/plain": [
       "<maxsmooth.chidist_plotter.chi_plotter at 0x7f3aae4be2e0>"
      ]
     },
     "execution_count": 3,
     "metadata": {},
     "output_type": "execute_result"
    }
   ],
   "source": [
    "chi_plotter(N, base_dir='examples/', fit_type='qp')"
   ]
  },
  {
   "cell_type": "markdown",
   "metadata": {},
   "source": [
    "We pass the same 'base_dir' as before so that the plotter can find the correct output files. We also give the function the same 'fit_type' used for the fitting which ensures that the files can be read.\n",
    "\n",
    "The resultant plot is stored in 'base_dir' and the yellow star shows the global minimum. This can be used to determine how well\n",
    "the sign sampling approach using a descent and directional exploration\n",
    "can find the global minimum. If the distribution looks like noise then it is unlikely the sign sampling algorithm will consistently find the global minimum. Rather it will likely repeatedly return the local minima found after the descent algorithm and you should use the 'qp' method testing all available sign combinations in any future fits to the data with this DCF model.\n",
    "\n",
    "We can visualise the plot in this notebook with the code below."
   ]
  },
  {
   "cell_type": "code",
   "execution_count": 5,
   "metadata": {},
   "outputs": [
    {
     "data": {
      "text/html": [
       "\n",
       "        <iframe\n",
       "            width=\"500\"\n",
       "            height=\"350\"\n",
       "            src=\"./examples/chi_distribution.pdf\"\n",
       "            frameborder=\"0\"\n",
       "            allowfullscreen\n",
       "        ></iframe>\n",
       "        "
      ],
      "text/plain": [
       "<IPython.lib.display.IFrame at 0x7f3aabc3a6a0>"
      ]
     },
     "execution_count": 5,
     "metadata": {},
     "output_type": "execute_result"
    }
   ],
   "source": [
    "from IPython.display import IFrame\n",
    "IFrame('./examples/chi_distribution.pdf', width=500, height=350)"
   ]
  }
 ],
 "metadata": {
  "kernelspec": {
   "display_name": "Python 3",
   "language": "python",
   "name": "python3"
  },
  "language_info": {
   "codemirror_mode": {
    "name": "ipython",
    "version": 3
   },
   "file_extension": ".py",
   "mimetype": "text/x-python",
   "name": "python",
   "nbconvert_exporter": "python",
   "pygments_lexer": "ipython3",
   "version": "3.8.2"
  }
 },
 "nbformat": 4,
 "nbformat_minor": 4
}
